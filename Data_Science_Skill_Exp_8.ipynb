{
  "nbformat": 4,
  "nbformat_minor": 0,
  "metadata": {
    "colab": {
      "provenance": [],
      "toc_visible": true
    },
    "kernelspec": {
      "name": "python3",
      "display_name": "Python 3"
    },
    "language_info": {
      "name": "python"
    }
  },
  "cells": [
    {
      "cell_type": "code",
      "execution_count": 1,
      "metadata": {
        "colab": {
          "base_uri": "https://localhost:8080/"
        },
        "id": "q1JdiqtuARyX",
        "outputId": "c06d68ad-f44d-4f59-b386-4108de3305c2"
      },
      "outputs": [
        {
          "output_type": "stream",
          "name": "stdout",
          "text": [
            "Selected Features using Correlation Coefficient: ['alcohol', 'volatile acidity', 'citric acid', 'sulphates', 'total sulfur dioxide']\n",
            "Selected Features using Variance Threshold: Index(['fixed acidity', 'volatile acidity', 'citric acid', 'residual sugar',\n",
            "       'free sulfur dioxide', 'total sulfur dioxide', 'pH', 'sulphates',\n",
            "       'alcohol'],\n",
            "      dtype='object')\n"
          ]
        }
      ],
      "source": [
        "import pandas as pd\n",
        "import numpy as np\n",
        "from sklearn.feature_selection import VarianceThreshold\n",
        "from sklearn.model_selection import train_test_split\n",
        "\n",
        "url = \"/content/winequality-red[1].csv\"\n",
        "df = pd.read_csv(url, delimiter=';')\n",
        "\n",
        "df['quality_category'] = np.where(df['quality'] >= 7, 1, 0)\n",
        "\n",
        "X = df.drop(columns=['quality', 'quality_category'])\n",
        "y = df['quality_category']\n",
        "\n",
        "X_train, X_test, y_train, y_test = train_test_split(X, y, test_size=0.2, random_state=42)\n",
        "\n",
        "correlation = X_train.corrwith(y_train)\n",
        "selected_features_corr = correlation.abs().sort_values(ascending=False).head(5).index.tolist()\n",
        "print(\"Selected Features using Correlation Coefficient:\", selected_features_corr)\n",
        "\n",
        "var_thresh = VarianceThreshold(threshold=0.01)\n",
        "X_new_var = var_thresh.fit_transform(X_train)\n",
        "\n",
        "selected_features_var = X.columns[var_thresh.get_support()]\n",
        "print(\"Selected Features using Variance Threshold:\", selected_features_var)"
      ]
    }
  ]
}